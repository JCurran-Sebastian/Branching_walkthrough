{
 "cells": [
  {
   "cell_type": "code",
   "execution_count": null,
   "id": "346e642e",
   "metadata": {},
   "outputs": [],
   "source": [
    "import numpy as np\n",
    "import scipy as sp\n",
    "import matplotlib.pyplot as plt\n",
    "from time import time as timer\n",
    "import Branching_Process as bp\n",
    "from tqdm import tqdm\n",
    "import importlib\n",
    "import seaborn as sns\n",
    "importlib.reload(bp)\n",
    "sns.set_palette('Set2')\n",
    "cmap = sns.color_palette('Set2')\n",
    "cmap = sns.color_palette('Accent')"
   ]
  },
  {
   "cell_type": "markdown",
   "id": "b6ffc842",
   "metadata": {},
   "source": [
    "# Branching Process walkthrough\n",
    "- The helper functions for evaluating things such as the PGF, mean, variance and other quantities from the branching process are in the package Branching_Process (imported as bp)\n",
    "- To use funcitons from the package, use bp. and then call the function (e.g. bp.cmj creates a cmj object, which is a Crump-Mode-Jagers process)\n",
    "- The main purpose of this notebook is to have a play around with swapping in and out various features of the branching process and seeing what effect it has on various outputs. \n",
    "- Example features could be: different generation time distributions, different time-varying infectivity, different dependence on time-since-infection, including importation, other, fancier extensions! \n",
    "- Example outputs could be: mean and variance of the process, number of cases over time, prevalence/cumulative incidence, probability of extinction, time to threshold/extinction.  "
   ]
  },
  {
   "cell_type": "markdown",
   "id": "6d5ddaa7",
   "metadata": {},
   "source": [
    "### Set some parameters for the epidemic - these can be changed as you wish! \n"
   ]
  },
  {
   "cell_type": "code",
   "execution_count": null,
   "id": "1fd101b5",
   "metadata": {},
   "outputs": [],
   "source": [
    "# Define time intervals\n",
    "Tmax = 100\n",
    "nsteps = Tmax +1 \n",
    "time = np.linspace(0, Tmax, num=nsteps)\n",
    "time_step = time[1] - time[0]\n",
    "\n",
    "# Effective Reproduction Number\n",
    "R_eff = 2\n",
    "# Lockdown time, if lockdown.\n",
    "t_lockdown = 30\n",
    "\n",
    "# Parameters for the generation interval taken from COVID-19, assuming a gamma distribution\n",
    "\n",
    "a = 6.6\n",
    "b = 0.833\n",
    "# Define distributions for the lifetime, infectivity profile and population-level transmission rate\n",
    "\n"
   ]
  },
  {
   "cell_type": "markdown",
   "id": "6bc72b03",
   "metadata": {},
   "source": [
    "### Define the generation time distribution - this is the random period of time for which an infectious individual is able to infect others. You need to give both the cdf and pdf for this. \n"
   ]
  },
  {
   "cell_type": "code",
   "execution_count": null,
   "id": "4e2992e2",
   "metadata": {},
   "outputs": [],
   "source": [
    "def lifetime_gamma(t, tau):\n",
    "    return sp.stats.gamma.cdf(t, a = a, scale = b) \n",
    "\n",
    "def lifetime_gamma_pdf(t, tau):\n",
    "    return sp.stats.gamma.pdf(t, a = a, scale = b) \n",
    "\n",
    "def lifetime_gamma_survival_function(t):\n",
    "    return 1-lifetime_gamma(t, 0)\n",
    "\n",
    "lifetime = lifetime_gamma\n",
    "lifetime_pdf = lifetime_gamma_pdf\n",
    "lifetime_survival_integral = sp.integrate.quad(lifetime_gamma_survival_function, 0, 100)[0]\n"
   ]
  },
  {
   "cell_type": "markdown",
   "id": "f10df6d4",
   "metadata": {},
   "source": [
    "### Define how infectiousness changes over an individual lifetime. This should be a deterministic function of time-since-infection, tau. You need both the function itself and its time-derivative.\n",
    "\n",
    "### Also define the population-level time-varying changes in transmission. Start with this being constant. Later in the notebook there is an example where $\\rho$ varies over time to model an intervention, such as a lockdown"
   ]
  },
  {
   "cell_type": "code",
   "execution_count": null,
   "id": "92749620",
   "metadata": {},
   "outputs": [],
   "source": [
    "# Choose some functions for time-varying infectivity\n",
    "\n",
    "def infectiousness_gamma(t):\n",
    "    return sp.stats.gamma.cdf(t, a = a, scale = b)*2\n",
    "\n",
    "def infectiousness_gamma_deriv(t):\n",
    "    return sp.stats.gamma.pdf(t, a = a, scale = b)*2\n",
    "\n",
    "def infectiousness_new(t):\n",
    "    return sp.stats.gamma.cdf(t, a = 5.5, scale = b)\n",
    "\n",
    "def infectiousness_new_deriv(t):\n",
    "    return sp.stats.gamma.pdf(t, a = 5.5, scale = b)\n",
    "\n",
    "# Constant infectiousness\n",
    "def infectiousness_const(t, const = 1):\n",
    "    return const * t* np.ones_like(t) \n",
    "\n",
    "def infectiousness_const_deriv(t, const = 1):\n",
    "    return const * np.ones_like(t) \n",
    "\n",
    "# Constant transmission parameter\n",
    "def rho_const(t, R=1):\n",
    "    return R_eff *np.ones_like(t)  \n",
    "\n",
    "# Transmission parameter reduced by a lockdown\n",
    "def rho_lockdown(t, R1 = R_eff, R2 = 0.8, t_lockdown = 30):\n",
    "    return R1 * (t<=t_lockdown)  + R2 * (1-(t <= t_lockdown))\n",
    "\n"
   ]
  },
  {
   "cell_type": "code",
   "execution_count": null,
   "id": "2e665d7b",
   "metadata": {},
   "outputs": [],
   "source": [
    "# Here we do some scaling of the chosen infectiousness curve - this is interpreted so that we can talk about a person infecting a proportion of their total infectivity over the course of their infection. \n",
    "# Make sure you change both the infectiousness and its derivative!!\n",
    "\n",
    "# Choose here which infectiousness curve you want. \n",
    "infectiousness_not_scaled = infectiousness_const\n",
    "infectiousness_deriv_not_scaled = infectiousness_const_deriv\n",
    "\n",
    "def combined_integral(t):\n",
    "    return infectiousness_deriv_not_scaled(t) * (1-lifetime(t, 0)) \n",
    "\n",
    "integral = np.round(sp.integrate.quad(combined_integral, 0, 100)[0], 5)\n",
    "\n",
    "def infectiousness(t):\n",
    "    return infectiousness_not_scaled(t) /  integral\n",
    "\n",
    "def infectiousness_deriv(t):\n",
    "    return infectiousness_deriv_not_scaled(t) / integral\n",
    "\n",
    "# Choose here which global transmission parameter/curve you want.\n",
    "rho = rho_const"
   ]
  },
  {
   "cell_type": "code",
   "execution_count": null,
   "id": "364bdf8d",
   "metadata": {},
   "outputs": [],
   "source": [
    "# Plot the various distributions below:\n",
    "\n",
    "fig, axs = plt.subplots(1, 3, figsize = (10, 6))\n",
    "axs[0].grid(alpha = 0.5)\n",
    "axs[0].plot(time, lifetime_pdf(time, 0), color = cmap[0])\n",
    "axs[0].set_xlim([0, 15])\n",
    "axs[0].set_xlabel('Time Since Infection')\n",
    "axs[0].set_title('Inf. Period, ' + r'$g(\\tau)$')\n",
    "\n",
    "axs[1].grid(alpha = 0.5)\n",
    "axs[1].plot(time, infectiousness_deriv(time), color = cmap[1])\n",
    "axs[1].set_xlim([0, 15])\n",
    "axs[1].set_xlabel('Time Since Infection')\n",
    "axs[1].set_title('Infectiousness, ' + r'$k(\\tau)$')\n",
    "\n",
    "axs[2].grid(alpha = 0.5)\n",
    "axs[2].plot(time, rho(time), color = cmap[2])\n",
    "# axs[2].plot(time, rho_lockdown(time, 1.5, 0.5, 7.5), color = cmap[2])\n",
    "axs[2].set_xlim([0, 15])\n",
    "axs[2].set_xlabel('Time Since Infection')\n",
    "axs[2].set_title('Transmission Rate, ' + r'$\\rho(\\tau)$')\n",
    "\n",
    "fig.tight_layout()\n"
   ]
  },
  {
   "cell_type": "markdown",
   "id": "44f51172",
   "metadata": {},
   "source": [
    "### Define the offspring distribution for how many cases are produced at each offspring event. \n",
    "\n",
    "### Let's stick with either Poisson or Logarithmic (which means that the resulting offspring for an individual will be Negative Binomial distributed - this incorporates superspreading!). \n",
    "\n",
    "### The PGF for both of these are given below. Start with Poisson and later try logarithmic to compare. Varying the value of phi will give different levels of superspreading"
   ]
  },
  {
   "cell_type": "code",
   "execution_count": null,
   "id": "0cdca21f",
   "metadata": {},
   "outputs": [],
   "source": [
    "# Define individual offspring distribution\n",
    "\n",
    "def logarithmic_offspring(z, phi = 0.1):\n",
    "    return - phi * (np.log(phi + 1 - z) - np.log(phi))\n",
    "\n",
    "def poisson_offspring(z, lamb = 1):\n",
    "    return lamb*(z-1)\n"
   ]
  },
  {
   "cell_type": "markdown",
   "id": "c17596d7",
   "metadata": {},
   "source": [
    "### Once all of this is defined, you can very easily create a cmj object below!"
   ]
  },
  {
   "cell_type": "code",
   "execution_count": null,
   "id": "29cd932a",
   "metadata": {},
   "outputs": [],
   "source": [
    "\n",
    "cmj = bp.cmj(poisson_offspring, time=time)\n",
    "cmj.set_lifetime_distribution(lifetime)\n",
    "cmj.set_infectiousness_profile(infectiousness)\n",
    "cmj.set_transmission_rate(rho)\n",
    "\n",
    "# Let's not include immigration for now. But definie it here so we can come back to it later... \n",
    "def immigration(tau, eta = 1):\n",
    "    return eta*np.ones_like(tau)\n",
    "\n",
    "\n",
    "\n",
    "\n",
    "# Define the intensity measure for the Poisson process that governs the offspring process of a single individual - \n",
    "# Integrating this gives is an individual case reproduction number! \n",
    "def intensity_measure(t):\n",
    "    return rho_const(t + 0) * infectiousness_deriv(t) * (1-lifetime(t, 0)) \n",
    "\n",
    "\n",
    "case_reproduction_number = sp.integrate.quad(intensity_measure, 0, 50)[0]\n",
    "print('Case Reproduction Number is: ' + str(np.round(case_reproduction_number, 5)))"
   ]
  },
  {
   "cell_type": "markdown",
   "id": "d79a62c3",
   "metadata": {},
   "source": [
    "### Calculate the PGF of the process, and then in one go conver into a PMF for the process. This gives us, at each time point, the distribution of the number of cases at time $t$\n",
    "\n",
    "- This can take quite a long time to calculate, depending on the parameter max_pgf, so set this to be low (say, 1000-5000) if wanting to run multiple times. \n",
    "- This can be sped up using parallelisation - if you do not have multiple cores, set the parameter parallel = False\n",
    "- On my computer, max_pgf = 10000 takes ~73 seconds if parallel = True and n_cores = 6. If parallel = False, it takes ~310 seconds... \n",
    "- Change these parameters according to your computer!!\n"
   ]
  },
  {
   "cell_type": "code",
   "execution_count": null,
   "id": "86992625",
   "metadata": {},
   "outputs": [],
   "source": [
    "# Need to set an upper limit for the number of cases - this is where the distribution will be cut off. \n",
    "max_pgf = 10000\n",
    "\n",
    "n_cores = 6\n",
    "# Set parallelise = False if this package is not installed, or if you cannot parallelise on your computer. \n",
    "characteristic = 'prev' # Switch between 'prev' for prevalence or 'ci' for cumulative incidence\n",
    "\n",
    "# Calculate pmf - parallelise for faster results \n",
    "start = timer()\n",
    "\n",
    "\n",
    "pmf_test = bp.pmfft(cmj.pgf_vec, \n",
    "                    max_pgf, \n",
    "                    immigration = None,\n",
    "                    count = 'prev',\n",
    "                    parallel = True,\n",
    "                    n_cores = n_cores)\n",
    "\n",
    "\n",
    "\n",
    "stop = timer()\n",
    "\n",
    "print('Runs in ' + str(stop - start) + ' seconds on ' + str(n_cores) + ' cores')\n",
    "\n",
    "\n",
    "mn_test = bp.mean_pmf(pmf_test)[:-1]\n"
   ]
  },
  {
   "cell_type": "markdown",
   "id": "8c7b5ac5",
   "metadata": {},
   "source": [
    "### Compare approximate mean with the analytic mean \n"
   ]
  },
  {
   "cell_type": "code",
   "execution_count": null,
   "id": "2928ab6b",
   "metadata": {},
   "outputs": [],
   "source": [
    "quick_mn = cmj.analytic_mean()[:-1]"
   ]
  },
  {
   "cell_type": "code",
   "execution_count": null,
   "id": "e40b5037",
   "metadata": {},
   "outputs": [],
   "source": [
    "\n",
    "showplot = 200\n",
    "\n",
    "plt.grid(alpha = 0.5)\n",
    "\n",
    "#plt.plot(xaxis[:showplot], mn_lockdown[:showplot], \"g\", label = \"Lockdown\")\n",
    "\n",
    "#plt.plot(grid[:], (mean_pmf(pmf_immigration))[:], label = \"Immigration\", color = 'orange')\n",
    "plt.plot(time, quick_mn, label = \"Analytic mean\")\n",
    "plt.plot(time, mn_test, '--', label = \"Mean from PGF\")\n",
    "\n",
    "# plt.plot(xaxis[:showplot], quick_mn[:showplot], \"b--\", label = \"Lockdown mean\")\n",
    "\n",
    "plt.xlabel(\"Time (Days)\")\n",
    "plt.ylabel(\"Prevalence\")\n",
    "plt.xlim([0, Tmax])\n",
    "plt.ylim([0, 5000])\n",
    "plt.title(\"Mean Prevalence, M = \" + str(max_pgf))\n",
    "plt.legend()\n"
   ]
  },
  {
   "cell_type": "code",
   "execution_count": null,
   "id": "4a510d9c",
   "metadata": {},
   "outputs": [],
   "source": [
    "extinction = (cmj.extinction_probability(cmj.pgf_vec))[:-1]\n",
    "tstar_idx = np.argwhere(np.gradient(extinction, time_step)<= 0.0001)[1][0]\n",
    "tstar = time[tstar_idx]\n",
    "zstar = quick_mn[tstar_idx]\n",
    "plt.grid(alpha = 0.5)\n",
    "plt.plot(time, extinction)\n",
    "plt.axvline(tstar, color = 'tab:purple', linestyle='--', label = \"T*\")\n",
    "plt.legend()\n",
    "plt.xlim([0, Tmax])\n",
    "plt.ylim([0, 1])\n",
    "plt.title(\"Probability of Extinction\")\n",
    "plt.xlabel(\"Time (Days)\")\n",
    "plt.ylabel(\"Probability\")\n",
    "print('Ultimate extinction probability is: ' + str(extinction[-1]))"
   ]
  },
  {
   "cell_type": "code",
   "execution_count": null,
   "id": "b24a0aa2",
   "metadata": {},
   "outputs": [],
   "source": [
    "Z1 = zstar\n",
    "FPT_cdf_small = bp.FirstPassageTime(pmf_test, Z1, time, False)\n",
    "FPT_pdf_small = bp.FirstPassageTime(pmf_test, Z1, time, True)\n",
    "\n",
    "print('Probability sums to ' + str(np.round(FPT_cdf_small[-1], 4)))\n",
    "plt.grid(alpha = 0.5)\n",
    "plt.plot(time, FPT_pdf_small, color = 'tab:red')\n",
    "plt.title('Time to hit ' + str(int(np.round(Z1))) + ' cases')\n",
    "plt.xlabel('Time (Days)')\n",
    "plt.ylabel(\"Probability\")\n",
    "#plt.savefig(\"FPT_162.png\")"
   ]
  },
  {
   "cell_type": "markdown",
   "id": "2b7bdf4d",
   "metadata": {},
   "source": [
    "### Try now to go back to the beginning and change a few of the parameters:\n",
    "- What if we chose a different lifetime distribution? \n",
    "- What if instead of constant infectiousness, we had a different infectiousness over time curve? \n",
    "- What if we used instead a logarithmic offsprind distribution, which includes overdispersion? And what happens if you change the parameter k?"
   ]
  },
  {
   "cell_type": "markdown",
   "id": "573b942b",
   "metadata": {},
   "source": [
    "### What about if we wanted to look at the time to extinction instead?? "
   ]
  },
  {
   "cell_type": "code",
   "execution_count": null,
   "id": "987d4b94",
   "metadata": {},
   "outputs": [],
   "source": [
    "def time_to_extinction(extinction_prob):\n",
    "    return np.gradient(((extinction) / (extinction[-1])))\n",
    "plt.plot(time, time_to_extinction(extinction))\n",
    "plt.grid(alpha = 0.5)\n",
    "plt.title('Time to Extinction (conditioned on extinction)')"
   ]
  },
  {
   "cell_type": "code",
   "execution_count": null,
   "id": "1e406ced",
   "metadata": {},
   "outputs": [],
   "source": [
    "max_pgf = 10000\n",
    "start = timer()\n",
    "\n",
    "\n",
    "pmf_immigration = bp.pmfft(cmj.pgf_immigration, \n",
    "                    max_pgf, \n",
    "                    immigration = immigration,\n",
    "                    count = 'prev',\n",
    "                    parallel = True,\n",
    "                    n_cores = n_cores)\n",
    "\n",
    "\n",
    "\n",
    "stop = timer()\n",
    "\n",
    "print('Runs in ' + str(stop - start) + ' seconds on ' + str(n_cores) + ' cores')\n",
    "\n",
    "mn_immigration= bp.mean_pmf(pmf_immigration)[:-1]\n"
   ]
  },
  {
   "cell_type": "code",
   "execution_count": null,
   "id": "255f8fe0",
   "metadata": {},
   "outputs": [],
   "source": [
    "\n",
    "Z1 = zstar\n",
    "FPT_pdf_noim = bp.FirstPassageTimeImmigration(pmf_test, Z1, time, True)\n",
    "FPT_pdf_im = bp.FirstPassageTimeImmigration(pmf_immigration, Z1, time, True)\n",
    "\n",
    "plt.grid(alpha = 0.5)\n",
    "plt.plot(time, FPT_pdf_noim, color = 'tab:red', label = 'No Immigration')\n",
    "\n",
    "plt.plot(time, FPT_pdf_im, color = 'tab:orange', label = 'Immigration')\n",
    "plt.title('Time to hit ' + str(int(np.round(Z1))) + ' cases')\n",
    "plt.xlabel('Time (Days)')\n",
    "plt.ylabel(\"Probability\")\n",
    "plt.legend()"
   ]
  },
  {
   "cell_type": "markdown",
   "id": "d53f73ee",
   "metadata": {},
   "source": [
    "### Try running a few different scenarios - this may take some time if not running in parallel, so if you cannot do this, maybe either reduce the number of scenarios, or reduce max_pgf"
   ]
  },
  {
   "cell_type": "code",
   "execution_count": null,
   "id": "d9dc3225",
   "metadata": {},
   "outputs": [],
   "source": [
    "eta = 0.5\n",
    "eta2 = 1\n",
    "# Constant immigration\n",
    "def scenario_1_im(t): \n",
    "    return eta*np.ones_like(t)\n",
    "\n",
    "# Constant immigration (lower rate)\n",
    "def scenario_2_im(t):\n",
    "    return eta2 * np.ones_like(t)\n",
    "\n",
    "# Exp increasing immigration\n",
    "def scenario_3_im(t):\n",
    "    return eta * np.exp(0.02*t)\n",
    "\n",
    "# Exp decreasing immigration\n",
    "def scenario_4_im(t):\n",
    "    return eta * np.exp(-0.02*t)\n",
    "\n",
    "\n",
    "# Total shutdown scenario\n",
    "def scenario_5_im(t, t_stop = 15):\n",
    "    return eta * (t < t_stop)\n",
    "\n",
    "\n",
    "# Two exogenous sources - one growing epidemic, tighter controls + one decreasing epidemic, looser controls\n",
    "def scenario_6_im(t, eta_country1 = 0.05, eta_country2 = -0.02, control_country1=0.01, control_country2 = 0.2):\n",
    "    return control_country1*np.exp(eta_country1*t) + control_country2*np.exp(eta_country2*t)\n"
   ]
  },
  {
   "cell_type": "code",
   "execution_count": null,
   "id": "7e634e50",
   "metadata": {},
   "outputs": [],
   "source": [
    "immigration_scenarios = [scenario_1_im, scenario_2_im, scenario_3_im, scenario_4_im, scenario_5_im, scenario_6_im]\n",
    "immigration_scenario_labels = [\"scenario_1\", \"scenario_2\", \"scenario_3\", \"scenario_4\", \"scenario_5\", \"scenario_6\"]\n",
    "\n",
    "\n",
    "max_pgf = 20000\n",
    "\n",
    "n_cores = 6\n",
    "characteristic = 'prev'\n",
    "scenarios = []\n",
    "pmf_scenarios = []\n",
    "\n",
    "for i, immigration in enumerate(immigration_scenarios):\n",
    "    # if i != 5:\n",
    "    #     continue\n",
    "    cmj_immigration = bp.cmj(poisson_offspring, time=time)\n",
    "    cmj_immigration.set_lifetime_distribution(lifetime)\n",
    "    cmj_immigration.set_infectiousness_profile(infectiousness)\n",
    "    cmj_immigration.set_transmission_rate(rho_const)\n",
    "    cmj_immigration.set_immigration(immigration)\n",
    "    scenarios += [cmj_immigration]\n",
    "    start = timer()\n",
    "    pmf_immigration = bp.pmfft(cmj_immigration.pgf_immigration, \n",
    "                    max_pgf,\n",
    "                    immigration = immigration,\n",
    "                    parallel = True,\n",
    "                    n_cores = n_cores)\n",
    "    stop = timer()\n",
    "    \n",
    "    print('Scenario ' + str(i) + ' finished in ' + str(np.round(stop - start, 2)) + ' seconds!')\n",
    "\n",
    "    pmf_scenarios += [pmf_immigration]"
   ]
  },
  {
   "cell_type": "code",
   "execution_count": null,
   "id": "eac9cf07",
   "metadata": {},
   "outputs": [],
   "source": [
    "fpt_scenarios = []\n",
    "n_scenarios = len(pmf_scenarios)\n",
    "Zstars = np.zeros(len(pmf_scenarios))\n",
    "tstars = np.zeros(len(pmf_scenarios))\n",
    "for i in range(n_scenarios):\n",
    "    pmf = pmf_scenarios[i]\n",
    "    mean = bp.mean_pmf(pmf)\n",
    "    extinction = pmf[0, :]\n",
    "    Zstar = 100\n",
    "    try:\n",
    "        tstar_idx = np.argwhere(mean >= Zstar)[1][0]#np.argwhere(np.gradient(extinction, time_step)<= 0.0001)[1][0]\n",
    "    except:\n",
    "        tstar_idx = -1\n",
    "    tstar = time[tstar_idx]\n",
    "    #int(mean[tstar_idx]) + 1\n",
    "    Zstars[i] = Zstar\n",
    "    tstars[i] = tstar\n",
    "    FPT_cdf = bp.FirstPassageTime(pmf, Zstar, time, False)\n",
    "    fpt_scenarios += [np.gradient(FPT_cdf, time_step)]"
   ]
  },
  {
   "cell_type": "code",
   "execution_count": null,
   "id": "0537a330",
   "metadata": {},
   "outputs": [],
   "source": [
    "n_scenarios = len(pmf_scenarios)\n",
    "fig, axs = plt.subplots(nrows = n_scenarios, ncols = 1)\n",
    "immigration_legend_labels = ['Scenario ' + str(int(i+1)) for i in range(n_scenarios)]\n",
    "#fig.set_figwidth(6)\n",
    "\n",
    "for i in range(n_scenarios):\n",
    "    axs[i].label_outer()\n",
    "    \n",
    "    axs[i].plot(time[5:], fpt_scenarios[i][5:], color = cmap[0], label = immigration_legend_labels[i])\n",
    "    axs[i].fill_between(time[5:], fpt_scenarios[i][5:], color = cmap[0], alpha = 0.8)\n",
    "    axs[i].axvline(np.sum(time[5:] * fpt_scenarios[i][5:])*time_step, color = cmap[1], linestyle = '--')\n",
    "    axs[i].grid(alpha = 0.2)\n",
    "    axs[i].set_xlim([0, 100])\n",
    "    axs[i].set_ylim([0, 0.2])\n",
    "    axs[i].legend(handlelength=0, handletextpad=0, fancybox=True)\n",
    "    #axs[i].set_xlim([0, 100])\n",
    "\n",
    "plt.xlabel('Time (Days)')\n",
    "fig.supylabel('Density')\n",
    "plt.suptitle('Time to hit ' + str(Zstar) + ' cases')\n",
    "plt.tight_layout() \n"
   ]
  },
  {
   "cell_type": "code",
   "execution_count": null,
   "id": "a64204db",
   "metadata": {},
   "outputs": [],
   "source": [
    "extinction_list = []\n",
    "R_lockdowns = np.array((1.2, 1.4, 1.6, 1.8, 2.)) / 2\n",
    "for j, Rl in enumerate(R_lockdowns):\n",
    "    cmj = bp.cmj(poisson_offspring, time=time)\n",
    "    cmj.set_lifetime_distribution(lifetime)\n",
    "    cmj.set_infectiousness_profile(infectiousness)\n",
    "    def R_lockdown(t, R=R_eff, Rl = Rl, t_lockdown = 30):\n",
    "        return R * (t<=t_lockdown)  + Rl * (1-(t <= t_lockdown))\n",
    "    cmj.set_transmission_rate(R_lockdown)\n",
    "    extinction = cmj.extinction_probability(cmj.pgf_vec)[:-1]\n",
    "    extinction_list += [extinction]"
   ]
  },
  {
   "cell_type": "markdown",
   "id": "52e8c684",
   "metadata": {},
   "source": [
    "### We can also model things such as the impact of a lockdown, by changing the global transmission parameter $\\rho$ \n",
    "- Have a go at doing this, try differente parameters and days of implementing the lockdown. \n",
    "- You could also try changing the function rho_lockdown to model different changes in $\\rho$, such as seasonal effects\n"
   ]
  },
  {
   "cell_type": "code",
   "execution_count": null,
   "id": "b26d524e",
   "metadata": {},
   "outputs": [],
   "source": [
    "max_pgf = 10000\n",
    "time = np.arange(200)\n",
    "n_cores = 6\n",
    "characteristic = 'prev'\n",
    "R = 1.8\n",
    "R_l = 0.7\n",
    "t_lockdowns = np.array((40, 50, 60, 70))\n",
    "lockdown_scenarios = []\n",
    "extinction_probs = []\n",
    "\n",
    "for j, tl in enumerate(t_lockdowns):\n",
    "    cmj = bp.cmj(poisson_offspring, time=time)\n",
    "    cmj.set_lifetime_distribution(lifetime)\n",
    "    cmj.set_infectiousness_profile(infectiousness)\n",
    "    def rho_lockdown(t, R=R, Rl = R_l, t_lockdown = tl):\n",
    "        return R * (t<=t_lockdown)  + Rl * (1-(t <= t_lockdown))\n",
    "    cmj.set_transmission_rate(rho_lockdown)\n",
    "    extinction_probs += [cmj.pgf_vec(0)]\n",
    "    start = timer()\n",
    "    pmf = bp.pmfft(cmj.pgf_vec, \n",
    "                        max_pgf, \n",
    "                        count = 'prev',\n",
    "                        parallel = True,\n",
    "                        n_cores = n_cores)\n",
    "    stop = timer()\n",
    "    \n",
    "\n",
    "    print('Scenario ' + str(j) + ' finished in ' + str(np.round(stop - start, 2)) + ' seconds!')\n",
    "\n",
    "    lockdown_scenarios += [pmf]\n",
    "    "
   ]
  },
  {
   "cell_type": "markdown",
   "id": "7ca3b581",
   "metadata": {},
   "source": [
    "#### Investigate effects on time to extinction \n",
    "\n",
    "- Try different parameters, timings, and functional forms for the intervention and investigate the impact on time-to-extinction"
   ]
  },
  {
   "cell_type": "code",
   "execution_count": null,
   "id": "8e818c9f",
   "metadata": {},
   "outputs": [],
   "source": [
    "mean_lockdowns = [bp.mean_pmf(ls) for ls in lockdown_scenarios]\n",
    "l_idx = 2\n",
    "ls =lockdown_scenarios[l_idx] \n",
    "ml = mean_lockdowns[l_idx]\n",
    "t_idx = np.argwhere(time == t_lockdowns[l_idx])[0][0]\n",
    "extinction = np.real_if_close(extinction_probs[l_idx][:-1])#ls[0, :-1]\n",
    "extinction_lockdown = extinction[(t_idx+1):] / (1-extinction[t_idx])\n",
    "extinction_pdf = np.gradient(extinction_lockdown, time_step)\n",
    "mean_extinction_time = time[np.where(ml<1)[0][0]]\n",
    "\n",
    "\n",
    "fig, ax = plt.subplots()\n",
    "ax.grid(alpha = 0.5)\n",
    "ln2 = ax.plot(time, ml[:-1], label = 'Prevalence (intervention)', color = cmap[0])\n",
    "ax.set_xlim([0, 150])\n",
    "ax.set_ylim([0, 3000])\n",
    "ax.set_xlabel('Time (Days)')\n",
    "ax.set_ylabel('Prevalence')\n",
    "ln4 = ax.axvline(t_lockdowns[l_idx], label = 'Day of Intervention', linestyle = '--', alpha = 0.7, color = cmap[2])\n",
    "ln5 = ax.axvline(mean_extinction_time, label = 'Mean Extinction Time', linestyle = '--', alpha = 0.7, color = cmap[7])\n",
    "print('Mean at ' + str(mean_extinction_time))\n",
    "\n",
    "ax2 = ax.twinx()\n",
    "ln3 =  ax2.plot(time[(t_idx+1):], extinction_pdf, color = cmap[7], label = 'Probability of Zero')\n",
    "ax2.fill_between(time[(t_idx+1):], 0, extinction_pdf, color = cmap[7], alpha = 0.2)\n",
    "ax2.set_xlim([0, 200])\n",
    "ax2.set_ylim([0, 0.1])\n",
    "ax2.set_ylabel('Probability')\n",
    "ax.set_title('Time to Zero Prevalence After an Intervention')\n",
    "\n"
   ]
  }
 ],
 "metadata": {
  "kernelspec": {
   "display_name": "base",
   "language": "python",
   "name": "python3"
  },
  "language_info": {
   "codemirror_mode": {
    "name": "ipython",
    "version": 3
   },
   "file_extension": ".py",
   "mimetype": "text/x-python",
   "name": "python",
   "nbconvert_exporter": "python",
   "pygments_lexer": "ipython3",
   "version": "3.10.9"
  }
 },
 "nbformat": 4,
 "nbformat_minor": 5
}
